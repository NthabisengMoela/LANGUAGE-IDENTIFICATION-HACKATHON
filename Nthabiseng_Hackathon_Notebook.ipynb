{
  "nbformat": 4,
  "nbformat_minor": 0,
  "metadata": {
    "kernelspec": {
      "display_name": "Python 3",
      "language": "python",
      "name": "python3"
    },
    "language_info": {
      "codemirror_mode": {
        "name": "ipython",
        "version": 3
      },
      "file_extension": ".py",
      "mimetype": "text/x-python",
      "name": "python",
      "nbconvert_exporter": "python",
      "pygments_lexer": "ipython3",
      "version": "3.7.6"
    },
    "colab": {
      "name": "Nthabiseng_Hackathon_Notebook.ipynb",
      "provenance": [],
      "include_colab_link": true
    }
  },
  "cells": [
    {
      "cell_type": "markdown",
      "metadata": {
        "id": "view-in-github",
        "colab_type": "text"
      },
      "source": [
        "<a href=\"https://colab.research.google.com/github/NthabisengMoela/LANGUAGE-IDENTIFICATION-HACKATHON/blob/main/Nthabiseng_Hackathon_Notebook.ipynb\" target=\"_parent\"><img src=\"https://colab.research.google.com/assets/colab-badge.svg\" alt=\"Open In Colab\"/></a>"
      ]
    },
    {
      "cell_type": "code",
      "metadata": {
        "id": "N5YVsAtv4NnG"
      },
      "source": [
        "# Loading Data\n",
        "import pandas as pd\n",
        "import numpy as np\n",
        "import nltk\n",
        "import string\n",
        "import re\n",
        "import time\n",
        "\n",
        "# Data Preprocessing\n",
        "from sklearn.feature_extraction.text import TfidfVectorizer\n",
        "from nltk.stem import WordNetLemmatizer\n",
        "from nltk.corpus import stopwords\n",
        "from sklearn.utils import resample\n",
        "from nltk.tokenize import word_tokenize, TreebankWordTokenizer\n",
        "from nltk.stem import WordNetLemmatizer\n",
        "\n",
        "# Model Building\n",
        "from sklearn.linear_model import LogisticRegression\n",
        "from sklearn.naive_bayes import MultinomialNB\n",
        "from sklearn.ensemble import RandomForestClassifier, AdaBoostClassifier\n",
        "from sklearn.svm import LinearSVC\n",
        "from sklearn.model_selection import train_test_split\n",
        "from sklearn.naive_bayes import MultinomialNB\n",
        "from sklearn.tree import DecisionTreeClassifier\n",
        "from sklearn.svm import SVC\n",
        "from sklearn.linear_model import LogisticRegression\n",
        "from sklearn.model_selection import GridSearchCV, cross_val_score\n",
        "\n",
        "# Model Evaluation\n",
        "from sklearn.metrics import f1_score\n",
        "from sklearn.metrics import accuracy_score, classification_report, confusion_matrix\n",
        "from sklearn.metrics import recall_score\n",
        "from sklearn.metrics import precision_score\n",
        "from sklearn.model_selection import GridSearchCV, cross_val_score\n",
        "from sklearn.multiclass import OneVsRestClassifier, OneVsOneClassifier\n",
        "#from scikitplot.metrics import plot_roc, plot_confusion_matrix\n",
        "\n",
        "# Explore Data Analysis\n",
        "import seaborn as sns\n",
        "import matplotlib.pyplot as plt\n",
        "%matplotlib inline\n",
        "\n",
        "from wordcloud import WordCloud, STOPWORDS\n",
        "from matplotlib.pyplot import rcParams\n",
        "\n",
        "from sklearn.feature_extraction.text import CountVectorizer\n",
        "\n",
        "from nltk.tokenize import word_tokenize\n",
        "from nltk import pos_tag\n",
        "from nltk.corpus import stopwords\n",
        "from nltk.stem import WordNetLemmatizer\n",
        "from sklearn.preprocessing import LabelEncoder\n",
        "from collections import defaultdict\n",
        "from nltk.corpus import wordnet as wn\n",
        "from sklearn.feature_extraction.text import TfidfVectorizer\n",
        "from sklearn import model_selection, naive_bayes, svm\n",
        "from sklearn.metrics import accuracy_score"
      ],
      "execution_count": 1,
      "outputs": []
    },
    {
      "cell_type": "code",
      "metadata": {
        "id": "Yjp9_8Im4NnH"
      },
      "source": [
        "train = pd.read_csv('train_set.csv')\n",
        "test = pd.read_csv('test_set.csv')"
      ],
      "execution_count": null,
      "outputs": []
    },
    {
      "cell_type": "code",
      "metadata": {
        "id": "zkTmeRag4NnI"
      },
      "source": [
        "ftrain = train.copy()\n",
        "ftest = test.copy()"
      ],
      "execution_count": null,
      "outputs": []
    },
    {
      "cell_type": "code",
      "metadata": {
        "id": "LBuxp4vT4NnI"
      },
      "source": [
        "import re\n",
        "def  clean_text(df, text_field):\n",
        "    df[text_field] = df[text_field].str.lower()\n",
        "    df[text_field] = df[text_field].apply(lambda elem: re.sub(r\"(@[A-Za-z0-9]+)|('[0-9]+')|([^0-9A-Za-z \\t])|(\\w+:\\/\\/\\S+)|^rt|http.+?\", \"\", elem))  \n",
        "    return df\n",
        "test_clean = clean_text(ftest, \"text\")\n",
        "train_clean = clean_text(ftrain, \"text\")"
      ],
      "execution_count": null,
      "outputs": []
    },
    {
      "cell_type": "code",
      "metadata": {
        "id": "7-1g01Gw4NnI",
        "outputId": "d38a116b-d370-42a1-9e0c-0834a3b59069"
      },
      "source": [
        "test_clean.head(20)"
      ],
      "execution_count": null,
      "outputs": [
        {
          "output_type": "execute_result",
          "data": {
            "text/html": [
              "<div>\n",
              "<style scoped>\n",
              "    .dataframe tbody tr th:only-of-type {\n",
              "        vertical-align: middle;\n",
              "    }\n",
              "\n",
              "    .dataframe tbody tr th {\n",
              "        vertical-align: top;\n",
              "    }\n",
              "\n",
              "    .dataframe thead th {\n",
              "        text-align: right;\n",
              "    }\n",
              "</style>\n",
              "<table border=\"1\" class=\"dataframe\">\n",
              "  <thead>\n",
              "    <tr style=\"text-align: right;\">\n",
              "      <th></th>\n",
              "      <th>index</th>\n",
              "      <th>text</th>\n",
              "    </tr>\n",
              "  </thead>\n",
              "  <tbody>\n",
              "    <tr>\n",
              "      <th>0</th>\n",
              "      <td>1</td>\n",
              "      <td>mmasepala fa maemo a a kgethegileng a letlelel...</td>\n",
              "    </tr>\n",
              "    <tr>\n",
              "      <th>1</th>\n",
              "      <td>2</td>\n",
              "      <td>uzakwaziswa ngokufaneleko nakungafuneka eminye...</td>\n",
              "    </tr>\n",
              "    <tr>\n",
              "      <th>2</th>\n",
              "      <td>3</td>\n",
              "      <td>tshivhumbeo tshi fana na ngano dza vhathu</td>\n",
              "    </tr>\n",
              "    <tr>\n",
              "      <th>3</th>\n",
              "      <td>4</td>\n",
              "      <td>kube inja nelikati betingevakala kutsi titsini...</td>\n",
              "    </tr>\n",
              "    <tr>\n",
              "      <th>4</th>\n",
              "      <td>5</td>\n",
              "      <td>winste op buitelandse valuta</td>\n",
              "    </tr>\n",
              "    <tr>\n",
              "      <th>5</th>\n",
              "      <td>6</td>\n",
              "      <td>ke feela dilense te hlakilego ta pono e tee go...</td>\n",
              "    </tr>\n",
              "    <tr>\n",
              "      <th>6</th>\n",
              "      <td>7</td>\n",
              "      <td>fn762010101403 am 1495 final gems birthing opt...</td>\n",
              "    </tr>\n",
              "    <tr>\n",
              "      <th>7</th>\n",
              "      <td>8</td>\n",
              "      <td>ntjhafatso ya konteraka ya mosebetsi etsa bonn...</td>\n",
              "    </tr>\n",
              "    <tr>\n",
              "      <th>8</th>\n",
              "      <td>9</td>\n",
              "      <td>ugems uhlinzeka ngezinzuzo zemithi yezifo ezin...</td>\n",
              "    </tr>\n",
              "    <tr>\n",
              "      <th>9</th>\n",
              "      <td>10</td>\n",
              "      <td>so on occasion are statistics misused</td>\n",
              "    </tr>\n",
              "    <tr>\n",
              "      <th>10</th>\n",
              "      <td>11</td>\n",
              "      <td>janewari la ngwaga ofe kapa dikholego ta gago ...</td>\n",
              "    </tr>\n",
              "    <tr>\n",
              "      <th>11</th>\n",
              "      <td>12</td>\n",
              "      <td>ntirho wa mfumo  ku aka swikolo swo ringana no...</td>\n",
              "    </tr>\n",
              "    <tr>\n",
              "      <th>12</th>\n",
              "      <td>13</td>\n",
              "      <td>kl3 e emetswe ke k 13 ya molaotheo tlhabololo ...</td>\n",
              "    </tr>\n",
              "    <tr>\n",
              "      <th>13</th>\n",
              "      <td>14</td>\n",
              "      <td>tshabo le ho se sireletsehe hoo ho ile ha baka...</td>\n",
              "    </tr>\n",
              "    <tr>\n",
              "      <th>14</th>\n",
              "      <td>15</td>\n",
              "      <td>loko u nga ri na ntiyiso wa leswaku xiphiqo xa...</td>\n",
              "    </tr>\n",
              "    <tr>\n",
              "      <th>15</th>\n",
              "      <td>16</td>\n",
              "      <td>lokuthabatha inxaxheba kwiintshukumo neeprogra...</td>\n",
              "    </tr>\n",
              "    <tr>\n",
              "      <th>16</th>\n",
              "      <td>17</td>\n",
              "      <td>icandelwana 2 lithathelwe indawo licandelo 9 l...</td>\n",
              "    </tr>\n",
              "    <tr>\n",
              "      <th>17</th>\n",
              "      <td>18</td>\n",
              "      <td>lamatsebula yebo mtilankhatsa uva kahle wonake...</td>\n",
              "    </tr>\n",
              "    <tr>\n",
              "      <th>18</th>\n",
              "      <td>19</td>\n",
              "      <td>enige persoon wat n bepaling van hierdie veror...</td>\n",
              "    </tr>\n",
              "    <tr>\n",
              "      <th>19</th>\n",
              "      <td>20</td>\n",
              "      <td>minisia zwi amba minisi</td>\n",
              "    </tr>\n",
              "  </tbody>\n",
              "</table>\n",
              "</div>"
            ],
            "text/plain": [
              "    index                                               text\n",
              "0       1  mmasepala fa maemo a a kgethegileng a letlelel...\n",
              "1       2  uzakwaziswa ngokufaneleko nakungafuneka eminye...\n",
              "2       3          tshivhumbeo tshi fana na ngano dza vhathu\n",
              "3       4  kube inja nelikati betingevakala kutsi titsini...\n",
              "4       5                       winste op buitelandse valuta\n",
              "5       6  ke feela dilense te hlakilego ta pono e tee go...\n",
              "6       7  fn762010101403 am 1495 final gems birthing opt...\n",
              "7       8  ntjhafatso ya konteraka ya mosebetsi etsa bonn...\n",
              "8       9  ugems uhlinzeka ngezinzuzo zemithi yezifo ezin...\n",
              "9      10              so on occasion are statistics misused\n",
              "10     11  janewari la ngwaga ofe kapa dikholego ta gago ...\n",
              "11     12  ntirho wa mfumo  ku aka swikolo swo ringana no...\n",
              "12     13  kl3 e emetswe ke k 13 ya molaotheo tlhabololo ...\n",
              "13     14  tshabo le ho se sireletsehe hoo ho ile ha baka...\n",
              "14     15  loko u nga ri na ntiyiso wa leswaku xiphiqo xa...\n",
              "15     16  lokuthabatha inxaxheba kwiintshukumo neeprogra...\n",
              "16     17  icandelwana 2 lithathelwe indawo licandelo 9 l...\n",
              "17     18  lamatsebula yebo mtilankhatsa uva kahle wonake...\n",
              "18     19  enige persoon wat n bepaling van hierdie veror...\n",
              "19     20                            minisia zwi amba minisi"
            ]
          },
          "metadata": {
            "tags": []
          },
          "execution_count": 63
        }
      ]
    },
    {
      "cell_type": "code",
      "metadata": {
        "id": "86j5BL-s4NnL",
        "outputId": "0c28dff1-aa9e-48c0-ce8b-5a18620f8806"
      },
      "source": [
        "test_clean['text'] = test_clean['text'].replace(to_replace = '[0-9]+', value = '', regex = True)\n",
        "test_clean.head(20)"
      ],
      "execution_count": null,
      "outputs": [
        {
          "output_type": "execute_result",
          "data": {
            "text/html": [
              "<div>\n",
              "<style scoped>\n",
              "    .dataframe tbody tr th:only-of-type {\n",
              "        vertical-align: middle;\n",
              "    }\n",
              "\n",
              "    .dataframe tbody tr th {\n",
              "        vertical-align: top;\n",
              "    }\n",
              "\n",
              "    .dataframe thead th {\n",
              "        text-align: right;\n",
              "    }\n",
              "</style>\n",
              "<table border=\"1\" class=\"dataframe\">\n",
              "  <thead>\n",
              "    <tr style=\"text-align: right;\">\n",
              "      <th></th>\n",
              "      <th>index</th>\n",
              "      <th>text</th>\n",
              "    </tr>\n",
              "  </thead>\n",
              "  <tbody>\n",
              "    <tr>\n",
              "      <th>0</th>\n",
              "      <td>1</td>\n",
              "      <td>mmasepala fa maemo a a kgethegileng a letlelel...</td>\n",
              "    </tr>\n",
              "    <tr>\n",
              "      <th>1</th>\n",
              "      <td>2</td>\n",
              "      <td>uzakwaziswa ngokufaneleko nakungafuneka eminye...</td>\n",
              "    </tr>\n",
              "    <tr>\n",
              "      <th>2</th>\n",
              "      <td>3</td>\n",
              "      <td>tshivhumbeo tshi fana na ngano dza vhathu</td>\n",
              "    </tr>\n",
              "    <tr>\n",
              "      <th>3</th>\n",
              "      <td>4</td>\n",
              "      <td>kube inja nelikati betingevakala kutsi titsini...</td>\n",
              "    </tr>\n",
              "    <tr>\n",
              "      <th>4</th>\n",
              "      <td>5</td>\n",
              "      <td>winste op buitelandse valuta</td>\n",
              "    </tr>\n",
              "    <tr>\n",
              "      <th>5</th>\n",
              "      <td>6</td>\n",
              "      <td>ke feela dilense te hlakilego ta pono e tee go...</td>\n",
              "    </tr>\n",
              "    <tr>\n",
              "      <th>6</th>\n",
              "      <td>7</td>\n",
              "      <td>fn am  final gems birthing optionszulutxtfn</td>\n",
              "    </tr>\n",
              "    <tr>\n",
              "      <th>7</th>\n",
              "      <td>8</td>\n",
              "      <td>ntjhafatso ya konteraka ya mosebetsi etsa bonn...</td>\n",
              "    </tr>\n",
              "    <tr>\n",
              "      <th>8</th>\n",
              "      <td>9</td>\n",
              "      <td>ugems uhlinzeka ngezinzuzo zemithi yezifo ezin...</td>\n",
              "    </tr>\n",
              "    <tr>\n",
              "      <th>9</th>\n",
              "      <td>10</td>\n",
              "      <td>so on occasion are statistics misused</td>\n",
              "    </tr>\n",
              "    <tr>\n",
              "      <th>10</th>\n",
              "      <td>11</td>\n",
              "      <td>janewari la ngwaga ofe kapa dikholego ta gago ...</td>\n",
              "    </tr>\n",
              "    <tr>\n",
              "      <th>11</th>\n",
              "      <td>12</td>\n",
              "      <td>ntirho wa mfumo  ku aka swikolo swo ringana no...</td>\n",
              "    </tr>\n",
              "    <tr>\n",
              "      <th>12</th>\n",
              "      <td>13</td>\n",
              "      <td>kl e emetswe ke k  ya molaotheo tlhabololo wa ...</td>\n",
              "    </tr>\n",
              "    <tr>\n",
              "      <th>13</th>\n",
              "      <td>14</td>\n",
              "      <td>tshabo le ho se sireletsehe hoo ho ile ha baka...</td>\n",
              "    </tr>\n",
              "    <tr>\n",
              "      <th>14</th>\n",
              "      <td>15</td>\n",
              "      <td>loko u nga ri na ntiyiso wa leswaku xiphiqo xa...</td>\n",
              "    </tr>\n",
              "    <tr>\n",
              "      <th>15</th>\n",
              "      <td>16</td>\n",
              "      <td>lokuthabatha inxaxheba kwiintshukumo neeprogra...</td>\n",
              "    </tr>\n",
              "    <tr>\n",
              "      <th>16</th>\n",
              "      <td>17</td>\n",
              "      <td>icandelwana  lithathelwe indawo licandelo  lom...</td>\n",
              "    </tr>\n",
              "    <tr>\n",
              "      <th>17</th>\n",
              "      <td>18</td>\n",
              "      <td>lamatsebula yebo mtilankhatsa uva kahle wonake...</td>\n",
              "    </tr>\n",
              "    <tr>\n",
              "      <th>18</th>\n",
              "      <td>19</td>\n",
              "      <td>enige persoon wat n bepaling van hierdie veror...</td>\n",
              "    </tr>\n",
              "    <tr>\n",
              "      <th>19</th>\n",
              "      <td>20</td>\n",
              "      <td>minisia zwi amba minisi</td>\n",
              "    </tr>\n",
              "  </tbody>\n",
              "</table>\n",
              "</div>"
            ],
            "text/plain": [
              "    index                                               text\n",
              "0       1  mmasepala fa maemo a a kgethegileng a letlelel...\n",
              "1       2  uzakwaziswa ngokufaneleko nakungafuneka eminye...\n",
              "2       3          tshivhumbeo tshi fana na ngano dza vhathu\n",
              "3       4  kube inja nelikati betingevakala kutsi titsini...\n",
              "4       5                       winste op buitelandse valuta\n",
              "5       6  ke feela dilense te hlakilego ta pono e tee go...\n",
              "6       7        fn am  final gems birthing optionszulutxtfn\n",
              "7       8  ntjhafatso ya konteraka ya mosebetsi etsa bonn...\n",
              "8       9  ugems uhlinzeka ngezinzuzo zemithi yezifo ezin...\n",
              "9      10              so on occasion are statistics misused\n",
              "10     11  janewari la ngwaga ofe kapa dikholego ta gago ...\n",
              "11     12  ntirho wa mfumo  ku aka swikolo swo ringana no...\n",
              "12     13  kl e emetswe ke k  ya molaotheo tlhabololo wa ...\n",
              "13     14  tshabo le ho se sireletsehe hoo ho ile ha baka...\n",
              "14     15  loko u nga ri na ntiyiso wa leswaku xiphiqo xa...\n",
              "15     16  lokuthabatha inxaxheba kwiintshukumo neeprogra...\n",
              "16     17  icandelwana  lithathelwe indawo licandelo  lom...\n",
              "17     18  lamatsebula yebo mtilankhatsa uva kahle wonake...\n",
              "18     19  enige persoon wat n bepaling van hierdie veror...\n",
              "19     20                            minisia zwi amba minisi"
            ]
          },
          "metadata": {
            "tags": []
          },
          "execution_count": 64
        }
      ]
    },
    {
      "cell_type": "code",
      "metadata": {
        "id": "zEQ9OARV4NnL",
        "outputId": "27b5aada-ba40-49b5-bee8-737a18b7ff91"
      },
      "source": [
        "train_clean['text'] = train_clean['text'].replace(to_replace = '[0-9]+', value = '', regex = True)\n",
        "train_clean.head(20)"
      ],
      "execution_count": null,
      "outputs": [
        {
          "output_type": "execute_result",
          "data": {
            "text/html": [
              "<div>\n",
              "<style scoped>\n",
              "    .dataframe tbody tr th:only-of-type {\n",
              "        vertical-align: middle;\n",
              "    }\n",
              "\n",
              "    .dataframe tbody tr th {\n",
              "        vertical-align: top;\n",
              "    }\n",
              "\n",
              "    .dataframe thead th {\n",
              "        text-align: right;\n",
              "    }\n",
              "</style>\n",
              "<table border=\"1\" class=\"dataframe\">\n",
              "  <thead>\n",
              "    <tr style=\"text-align: right;\">\n",
              "      <th></th>\n",
              "      <th>lang_id</th>\n",
              "      <th>text</th>\n",
              "    </tr>\n",
              "  </thead>\n",
              "  <tbody>\n",
              "    <tr>\n",
              "      <th>0</th>\n",
              "      <td>xho</td>\n",
              "      <td>umgaqosiseko wenza amalungiselelo kumaziko axh...</td>\n",
              "    </tr>\n",
              "    <tr>\n",
              "      <th>1</th>\n",
              "      <td>xho</td>\n",
              "      <td>idha iya kuba nobulumko bokubeka umsebenzi nap...</td>\n",
              "    </tr>\n",
              "    <tr>\n",
              "      <th>2</th>\n",
              "      <td>eng</td>\n",
              "      <td>the province of kwazulunatal department of tra...</td>\n",
              "    </tr>\n",
              "    <tr>\n",
              "      <th>3</th>\n",
              "      <td>nso</td>\n",
              "      <td>o netefata gore o ba file dilo ka moka te le d...</td>\n",
              "    </tr>\n",
              "    <tr>\n",
              "      <th>4</th>\n",
              "      <td>ven</td>\n",
              "      <td>khomishini ya ndinganyiso ya mbeu yo ewa maana...</td>\n",
              "    </tr>\n",
              "    <tr>\n",
              "      <th>5</th>\n",
              "      <td>nso</td>\n",
              "      <td>dinyakiio te ta go dirwa gabedi ka ngwaga di t...</td>\n",
              "    </tr>\n",
              "    <tr>\n",
              "      <th>6</th>\n",
              "      <td>tsn</td>\n",
              "      <td>kgetse nngwe le nngwe e e sa faposiwang mo tsh...</td>\n",
              "    </tr>\n",
              "    <tr>\n",
              "      <th>7</th>\n",
              "      <td>ven</td>\n",
              "      <td>mbadelo dze dza laelwa dzi do kwama mahatulele...</td>\n",
              "    </tr>\n",
              "    <tr>\n",
              "      <th>8</th>\n",
              "      <td>nso</td>\n",
              "      <td>maloko a dikhuduthamaga a ikarabela mongwe le ...</td>\n",
              "    </tr>\n",
              "    <tr>\n",
              "      <th>9</th>\n",
              "      <td>tsn</td>\n",
              "      <td>fa le dirisiwa lebone le tshwanetse go bontsha...</td>\n",
              "    </tr>\n",
              "    <tr>\n",
              "      <th>10</th>\n",
              "      <td>nbl</td>\n",
              "      <td>lapho inarha yangeqadi ingenwe ngokungasimthet...</td>\n",
              "    </tr>\n",
              "    <tr>\n",
              "      <th>11</th>\n",
              "      <td>ven</td>\n",
              "      <td>yo dovha hafhu ya khwahisedza uri hu vhe na mu...</td>\n",
              "    </tr>\n",
              "    <tr>\n",
              "      <th>12</th>\n",
              "      <td>zul</td>\n",
              "      <td>itipoffs anonymous wusizo locingo oluzimele fu...</td>\n",
              "    </tr>\n",
              "    <tr>\n",
              "      <th>13</th>\n",
              "      <td>ssw</td>\n",
              "      <td>tekulima lokufaka ekhatsi yonkhe imisebenti ye...</td>\n",
              "    </tr>\n",
              "    <tr>\n",
              "      <th>14</th>\n",
              "      <td>zul</td>\n",
              "      <td>noma yiliphi ilungu lombutho wezokuvikela elin...</td>\n",
              "    </tr>\n",
              "    <tr>\n",
              "      <th>15</th>\n",
              "      <td>nso</td>\n",
              "      <td>c a fa tumelelo ya go hloma go aga goba go bea...</td>\n",
              "    </tr>\n",
              "    <tr>\n",
              "      <th>16</th>\n",
              "      <td>tso</td>\n",
              "      <td>migingiriko ya cbnrm hinkwayo yi katsa ku tumb...</td>\n",
              "    </tr>\n",
              "    <tr>\n",
              "      <th>17</th>\n",
              "      <td>zul</td>\n",
              "      <td>amalungu nabangabasebenzi banelungelo lokwenza...</td>\n",
              "    </tr>\n",
              "    <tr>\n",
              "      <th>18</th>\n",
              "      <td>sot</td>\n",
              "      <td>ka ho mengwa lefapheng la lona diprofeshenale ...</td>\n",
              "    </tr>\n",
              "    <tr>\n",
              "      <th>19</th>\n",
              "      <td>nbl</td>\n",
              "      <td>isitifikhethi somtjhado esingakarhunyezwa namk...</td>\n",
              "    </tr>\n",
              "  </tbody>\n",
              "</table>\n",
              "</div>"
            ],
            "text/plain": [
              "   lang_id                                               text\n",
              "0      xho  umgaqosiseko wenza amalungiselelo kumaziko axh...\n",
              "1      xho  idha iya kuba nobulumko bokubeka umsebenzi nap...\n",
              "2      eng  the province of kwazulunatal department of tra...\n",
              "3      nso  o netefata gore o ba file dilo ka moka te le d...\n",
              "4      ven  khomishini ya ndinganyiso ya mbeu yo ewa maana...\n",
              "5      nso  dinyakiio te ta go dirwa gabedi ka ngwaga di t...\n",
              "6      tsn  kgetse nngwe le nngwe e e sa faposiwang mo tsh...\n",
              "7      ven  mbadelo dze dza laelwa dzi do kwama mahatulele...\n",
              "8      nso  maloko a dikhuduthamaga a ikarabela mongwe le ...\n",
              "9      tsn  fa le dirisiwa lebone le tshwanetse go bontsha...\n",
              "10     nbl  lapho inarha yangeqadi ingenwe ngokungasimthet...\n",
              "11     ven  yo dovha hafhu ya khwahisedza uri hu vhe na mu...\n",
              "12     zul  itipoffs anonymous wusizo locingo oluzimele fu...\n",
              "13     ssw  tekulima lokufaka ekhatsi yonkhe imisebenti ye...\n",
              "14     zul  noma yiliphi ilungu lombutho wezokuvikela elin...\n",
              "15     nso  c a fa tumelelo ya go hloma go aga goba go bea...\n",
              "16     tso  migingiriko ya cbnrm hinkwayo yi katsa ku tumb...\n",
              "17     zul  amalungu nabangabasebenzi banelungelo lokwenza...\n",
              "18     sot  ka ho mengwa lefapheng la lona diprofeshenale ...\n",
              "19     nbl  isitifikhethi somtjhado esingakarhunyezwa namk..."
            ]
          },
          "metadata": {
            "tags": []
          },
          "execution_count": 65
        }
      ]
    },
    {
      "cell_type": "code",
      "metadata": {
        "id": "Chnn86BL4NnL",
        "outputId": "0fc17835-b035-4af6-abe6-055730982a71"
      },
      "source": [
        "# creating instance of labelencoder\n",
        "from sklearn.preprocessing import LabelEncoder\n",
        "\n",
        "labelencoder = LabelEncoder()\n",
        "# Assigning numerical values and storing in another column\n",
        "train_clean['lang_num'] = labelencoder.fit_transform(train_clean['lang_id'])\n",
        "train_clean"
      ],
      "execution_count": null,
      "outputs": [
        {
          "output_type": "execute_result",
          "data": {
            "text/html": [
              "<div>\n",
              "<style scoped>\n",
              "    .dataframe tbody tr th:only-of-type {\n",
              "        vertical-align: middle;\n",
              "    }\n",
              "\n",
              "    .dataframe tbody tr th {\n",
              "        vertical-align: top;\n",
              "    }\n",
              "\n",
              "    .dataframe thead th {\n",
              "        text-align: right;\n",
              "    }\n",
              "</style>\n",
              "<table border=\"1\" class=\"dataframe\">\n",
              "  <thead>\n",
              "    <tr style=\"text-align: right;\">\n",
              "      <th></th>\n",
              "      <th>lang_id</th>\n",
              "      <th>text</th>\n",
              "      <th>lang_num</th>\n",
              "    </tr>\n",
              "  </thead>\n",
              "  <tbody>\n",
              "    <tr>\n",
              "      <th>0</th>\n",
              "      <td>xho</td>\n",
              "      <td>umgaqosiseko wenza amalungiselelo kumaziko axh...</td>\n",
              "      <td>9</td>\n",
              "    </tr>\n",
              "    <tr>\n",
              "      <th>1</th>\n",
              "      <td>xho</td>\n",
              "      <td>idha iya kuba nobulumko bokubeka umsebenzi nap...</td>\n",
              "      <td>9</td>\n",
              "    </tr>\n",
              "    <tr>\n",
              "      <th>2</th>\n",
              "      <td>eng</td>\n",
              "      <td>the province of kwazulunatal department of tra...</td>\n",
              "      <td>1</td>\n",
              "    </tr>\n",
              "    <tr>\n",
              "      <th>3</th>\n",
              "      <td>nso</td>\n",
              "      <td>o netefata gore o ba file dilo ka moka te le d...</td>\n",
              "      <td>3</td>\n",
              "    </tr>\n",
              "    <tr>\n",
              "      <th>4</th>\n",
              "      <td>ven</td>\n",
              "      <td>khomishini ya ndinganyiso ya mbeu yo ewa maana...</td>\n",
              "      <td>8</td>\n",
              "    </tr>\n",
              "    <tr>\n",
              "      <th>...</th>\n",
              "      <td>...</td>\n",
              "      <td>...</td>\n",
              "      <td>...</td>\n",
              "    </tr>\n",
              "    <tr>\n",
              "      <th>32995</th>\n",
              "      <td>tsn</td>\n",
              "      <td>popo ya dipolateforomo tse ke go tlisa boetele...</td>\n",
              "      <td>6</td>\n",
              "    </tr>\n",
              "    <tr>\n",
              "      <th>32996</th>\n",
              "      <td>sot</td>\n",
              "      <td>modise mosadi na o ntse o sa utlwe hore thaban...</td>\n",
              "      <td>4</td>\n",
              "    </tr>\n",
              "    <tr>\n",
              "      <th>32997</th>\n",
              "      <td>eng</td>\n",
              "      <td>closing date for the submission of completed t...</td>\n",
              "      <td>1</td>\n",
              "    </tr>\n",
              "    <tr>\n",
              "      <th>32998</th>\n",
              "      <td>xho</td>\n",
              "      <td>nawuphina umntu ofunyenwe enetyala phantsi kwa...</td>\n",
              "      <td>9</td>\n",
              "    </tr>\n",
              "    <tr>\n",
              "      <th>32999</th>\n",
              "      <td>sot</td>\n",
              "      <td>mafapha a mang le ona a lokela ho etsa ditlale...</td>\n",
              "      <td>4</td>\n",
              "    </tr>\n",
              "  </tbody>\n",
              "</table>\n",
              "<p>33000 rows × 3 columns</p>\n",
              "</div>"
            ],
            "text/plain": [
              "      lang_id                                               text  lang_num\n",
              "0         xho  umgaqosiseko wenza amalungiselelo kumaziko axh...         9\n",
              "1         xho  idha iya kuba nobulumko bokubeka umsebenzi nap...         9\n",
              "2         eng  the province of kwazulunatal department of tra...         1\n",
              "3         nso  o netefata gore o ba file dilo ka moka te le d...         3\n",
              "4         ven  khomishini ya ndinganyiso ya mbeu yo ewa maana...         8\n",
              "...       ...                                                ...       ...\n",
              "32995     tsn  popo ya dipolateforomo tse ke go tlisa boetele...         6\n",
              "32996     sot  modise mosadi na o ntse o sa utlwe hore thaban...         4\n",
              "32997     eng  closing date for the submission of completed t...         1\n",
              "32998     xho  nawuphina umntu ofunyenwe enetyala phantsi kwa...         9\n",
              "32999     sot  mafapha a mang le ona a lokela ho etsa ditlale...         4\n",
              "\n",
              "[33000 rows x 3 columns]"
            ]
          },
          "metadata": {
            "tags": []
          },
          "execution_count": 66
        }
      ]
    },
    {
      "cell_type": "markdown",
      "metadata": {
        "id": "2RYUs-6a4NnM"
      },
      "source": [
        "# Training the model"
      ]
    },
    {
      "cell_type": "code",
      "metadata": {
        "id": "HYp3Ctv04NnM"
      },
      "source": [
        "X = train_clean['text']\n",
        "y = train_clean['lang_num']"
      ],
      "execution_count": null,
      "outputs": []
    },
    {
      "cell_type": "code",
      "metadata": {
        "id": "-bZmnnl-4NnM"
      },
      "source": [
        "#Vectorize the clean text\n",
        "vectorizer = TfidfVectorizer(sublinear_tf=True)\n",
        "X_vectorized = vectorizer.fit_transform(X)"
      ],
      "execution_count": null,
      "outputs": []
    },
    {
      "cell_type": "code",
      "metadata": {
        "id": "_JwYOXKe4NnM"
      },
      "source": [
        "X_train, X_test, y_train, y_test = train_test_split(X_vectorized, y, test_size=0.2, random_state=42)"
      ],
      "execution_count": null,
      "outputs": []
    },
    {
      "cell_type": "code",
      "metadata": {
        "id": "nf5S4qp34NnM",
        "outputId": "3c6ac343-8d72-4084-9376-ec7cc4ce872c"
      },
      "source": [
        "# Classifier - Algorithm - Naive Bayes\n",
        "# fit the training dataset on the classifier\n",
        "Naive = naive_bayes.MultinomialNB()\n",
        "Naive.fit(X_train,y_train)\n",
        "# predict the labels on validation dataset\n",
        "predictions_NB = Naive.predict(X_test)\n",
        "\n",
        "# Use accuracy_score function to get the accuracy\n",
        "print(\"Naive Bayes Accuracy Score -> \",accuracy_score(predictions_NB, y_test)*100)\n",
        "print(\"F1 Score -> \",f1_score(predictions_NB, y_test, average=\"macro\")*100)"
      ],
      "execution_count": null,
      "outputs": [
        {
          "output_type": "stream",
          "text": [
            "Naive Bayes Accuracy Score ->  99.86363636363636\n",
            "F1 Score ->  99.86277573330699\n"
          ],
          "name": "stdout"
        }
      ]
    },
    {
      "cell_type": "code",
      "metadata": {
        "id": "KCzDLesL4NnM",
        "outputId": "1d557b63-7aab-403a-b184-6e830ea367e1"
      },
      "source": [
        "lsvc = LinearSVC()\n",
        "\n",
        "lsvc.fit(X_train,y_train)\n",
        "# predict the labels on validation dataset\n",
        "predictions_lsvc = lsvc.predict(X_test)\n",
        "\n",
        "# Use accuracy_score function to get the accuracy\n",
        "print(\"SVM Accuracy Score -> \",accuracy_score(predictions_lsvc, y_test)*100)\n",
        "print(\"F1 Score -> \",f1_score(predictions_lsvc, y_test, average=\"macro\")*100)"
      ],
      "execution_count": null,
      "outputs": [
        {
          "output_type": "stream",
          "text": [
            "SVM Accuracy Score ->  99.7121212121212\n",
            "F1 Score ->  99.70973770815422\n"
          ],
          "name": "stdout"
        }
      ]
    },
    {
      "cell_type": "code",
      "metadata": {
        "id": "gX90qxiJ4NnN",
        "outputId": "50479d52-f69d-4a02-ec2d-149afa869f6a"
      },
      "source": [
        "svc = SVC()\n",
        "\n",
        "svc.fit(X_train,y_train)\n",
        "# predict the labels on validation dataset\n",
        "predictions_svc = svc.predict(X_test)\n",
        "\n",
        "# Use accuracy_score function to get the accuracy\n",
        "print(\"SVM Accuracy Score -> \",accuracy_score(predictions_svc, y_test)*100)\n",
        "print(\"F1 Score -> \",f1_score(predictions_lsvc, y_test, average=\"macro\")*100)"
      ],
      "execution_count": null,
      "outputs": [
        {
          "output_type": "stream",
          "text": [
            "SVM Accuracy Score ->  99.57575757575758\n",
            "F1 Score ->  99.70973770815422\n"
          ],
          "name": "stdout"
        }
      ]
    },
    {
      "cell_type": "code",
      "metadata": {
        "id": "yYA9Hm_I4NnN",
        "outputId": "2a3149d1-3d9c-45ba-f1a6-e18221a237f7"
      },
      "source": [
        "# Training Logistics Regression model\n",
        "LR_model = LogisticRegression(solver='lbfgs')\n",
        "LR_model.fit(X_train, y_train)\n",
        "y_predict_lr = LR_model.predict(X_test)\n",
        "print(accuracy_score(y_test, y_predict_lr))\n",
        "print(\"F1 Score -> \",f1_score(y_predict_lr, y_test, average=\"macro\")*100)"
      ],
      "execution_count": null,
      "outputs": [
        {
          "output_type": "stream",
          "text": [
            "C:\\Users\\zoemo\\anaconda3\\lib\\site-packages\\sklearn\\linear_model\\_logistic.py:764: ConvergenceWarning: lbfgs failed to converge (status=1):\n",
            "STOP: TOTAL NO. of ITERATIONS REACHED LIMIT.\n",
            "\n",
            "Increase the number of iterations (max_iter) or scale the data as shown in:\n",
            "    https://scikit-learn.org/stable/modules/preprocessing.html\n",
            "Please also refer to the documentation for alternative solver options:\n",
            "    https://scikit-learn.org/stable/modules/linear_model.html#logistic-regression\n",
            "  extra_warning_msg=_LOGISTIC_SOLVER_CONVERGENCE_MSG)\n"
          ],
          "name": "stderr"
        },
        {
          "output_type": "stream",
          "text": [
            "0.9956060606060606\n",
            "F1 Score ->  99.55467694270325\n"
          ],
          "name": "stdout"
        }
      ]
    },
    {
      "cell_type": "markdown",
      "metadata": {
        "id": "EDPMlIbC4NnN"
      },
      "source": [
        "# Grid Search "
      ]
    },
    {
      "cell_type": "code",
      "metadata": {
        "id": "ZkN7-nHG4NnN",
        "outputId": "7037aca9-1cec-4b18-cd13-ac1507e01e41"
      },
      "source": [
        "LinearSVC().get_params()"
      ],
      "execution_count": null,
      "outputs": [
        {
          "output_type": "execute_result",
          "data": {
            "text/plain": [
              "{'C': 1.0,\n",
              " 'class_weight': None,\n",
              " 'dual': True,\n",
              " 'fit_intercept': True,\n",
              " 'intercept_scaling': 1,\n",
              " 'loss': 'squared_hinge',\n",
              " 'max_iter': 1000,\n",
              " 'multi_class': 'ovr',\n",
              " 'penalty': 'l2',\n",
              " 'random_state': None,\n",
              " 'tol': 0.0001,\n",
              " 'verbose': 0}"
            ]
          },
          "metadata": {
            "tags": []
          },
          "execution_count": 54
        }
      ]
    },
    {
      "cell_type": "code",
      "metadata": {
        "id": "6KNFUlb74NnN",
        "outputId": "f193826e-11a0-43e9-e01e-369f2c7d34a9"
      },
      "source": [
        "param_grid = {'C': [100],#[0.1,1,10,100,1000]\n",
        "              'max_iter': [3 0], #[10,100]\n",
        "              'multi_class' : ['ovr'], #['crammer_singer', 'ovr']\n",
        "              'random_state': [42]} \n",
        "grid_LSVC = GridSearchCV(LinearSVC(), param_grid, scoring='f1_weighted', cv=5, n_jobs=-1)\n",
        "grid_LSVC.fit(X_train, y_train)\n",
        "y_pred = grid_LSVC.predict(X_test)\n",
        "print(grid_LSVC.best_params_)\n",
        "\n",
        "print(\"LSVM Accuracy Score -> \",accuracy_score(y_pred, y_test)*100)\n",
        "print(\"F1 Score -> \",f1_score(y_pred, y_test, average=\"macro\")*100)"
      ],
      "execution_count": null,
      "outputs": [
        {
          "output_type": "stream",
          "text": [
            "{'C': 100, 'max_iter': 10, 'multi_class': 'ovr', 'random_state': 42}\n",
            "LSVM Accuracy Score ->  99.69696969696969\n",
            "F1 Score ->  99.69736746704996\n"
          ],
          "name": "stdout"
        },
        {
          "output_type": "stream",
          "text": [
            "C:\\Users\\zoemo\\anaconda3\\lib\\site-packages\\sklearn\\svm\\_base.py:977: ConvergenceWarning: Liblinear failed to converge, increase the number of iterations.\n",
            "  \"the number of iterations.\", ConvergenceWarning)\n"
          ],
          "name": "stderr"
        }
      ]
    },
    {
      "cell_type": "code",
      "metadata": {
        "id": "ZymNwdSc4NnO"
      },
      "source": [
        ""
      ],
      "execution_count": null,
      "outputs": []
    },
    {
      "cell_type": "code",
      "metadata": {
        "id": "KNRph_c54NnO",
        "outputId": "20d7c8bd-55c9-441c-af4f-b8a9a8eefb63"
      },
      "source": [
        "#Save the model\n",
        "\n",
        "testx = test_clean['text']\n",
        "test_vect = vectorizer.transform(testx)\n",
        "\n",
        "naive_pred = Naive.predict(test_vect)\n",
        "otest = test_clean.copy()\n",
        "otest['lang_id'] = naive_pred\n",
        "otest.head()"
      ],
      "execution_count": null,
      "outputs": [
        {
          "output_type": "execute_result",
          "data": {
            "text/html": [
              "<div>\n",
              "<style scoped>\n",
              "    .dataframe tbody tr th:only-of-type {\n",
              "        vertical-align: middle;\n",
              "    }\n",
              "\n",
              "    .dataframe tbody tr th {\n",
              "        vertical-align: top;\n",
              "    }\n",
              "\n",
              "    .dataframe thead th {\n",
              "        text-align: right;\n",
              "    }\n",
              "</style>\n",
              "<table border=\"1\" class=\"dataframe\">\n",
              "  <thead>\n",
              "    <tr style=\"text-align: right;\">\n",
              "      <th></th>\n",
              "      <th>index</th>\n",
              "      <th>text</th>\n",
              "      <th>lang_id</th>\n",
              "    </tr>\n",
              "  </thead>\n",
              "  <tbody>\n",
              "    <tr>\n",
              "      <th>0</th>\n",
              "      <td>1</td>\n",
              "      <td>mmasepala fa maemo a a kgethegileng a letlelel...</td>\n",
              "      <td>tsn</td>\n",
              "    </tr>\n",
              "    <tr>\n",
              "      <th>1</th>\n",
              "      <td>2</td>\n",
              "      <td>uzakwaziswa ngokufaneleko nakungafuneka eminye...</td>\n",
              "      <td>nbl</td>\n",
              "    </tr>\n",
              "    <tr>\n",
              "      <th>2</th>\n",
              "      <td>3</td>\n",
              "      <td>tshivhumbeo tshi fana na ngano dza vhathu</td>\n",
              "      <td>ven</td>\n",
              "    </tr>\n",
              "    <tr>\n",
              "      <th>3</th>\n",
              "      <td>4</td>\n",
              "      <td>kube inja nelikati betingevakala kutsi titsini...</td>\n",
              "      <td>ssw</td>\n",
              "    </tr>\n",
              "    <tr>\n",
              "      <th>4</th>\n",
              "      <td>5</td>\n",
              "      <td>winste op buitelandse valuta</td>\n",
              "      <td>afr</td>\n",
              "    </tr>\n",
              "  </tbody>\n",
              "</table>\n",
              "</div>"
            ],
            "text/plain": [
              "   index                                               text lang_id\n",
              "0      1  mmasepala fa maemo a a kgethegileng a letlelel...     tsn\n",
              "1      2  uzakwaziswa ngokufaneleko nakungafuneka eminye...     nbl\n",
              "2      3          tshivhumbeo tshi fana na ngano dza vhathu     ven\n",
              "3      4  kube inja nelikati betingevakala kutsi titsini...     ssw\n",
              "4      5                       winste op buitelandse valuta     afr"
            ]
          },
          "metadata": {
            "tags": []
          },
          "execution_count": 49
        }
      ]
    },
    {
      "cell_type": "code",
      "metadata": {
        "id": "6-Bii1bm4NnO",
        "outputId": "fc64140b-c8ba-4ba2-dff0-5696a36f1ee9"
      },
      "source": [
        "df = otest[['index','lang_id']]\n",
        "df.head()"
      ],
      "execution_count": null,
      "outputs": [
        {
          "output_type": "execute_result",
          "data": {
            "text/html": [
              "<div>\n",
              "<style scoped>\n",
              "    .dataframe tbody tr th:only-of-type {\n",
              "        vertical-align: middle;\n",
              "    }\n",
              "\n",
              "    .dataframe tbody tr th {\n",
              "        vertical-align: top;\n",
              "    }\n",
              "\n",
              "    .dataframe thead th {\n",
              "        text-align: right;\n",
              "    }\n",
              "</style>\n",
              "<table border=\"1\" class=\"dataframe\">\n",
              "  <thead>\n",
              "    <tr style=\"text-align: right;\">\n",
              "      <th></th>\n",
              "      <th>index</th>\n",
              "      <th>lang_id</th>\n",
              "    </tr>\n",
              "  </thead>\n",
              "  <tbody>\n",
              "    <tr>\n",
              "      <th>0</th>\n",
              "      <td>1</td>\n",
              "      <td>tsn</td>\n",
              "    </tr>\n",
              "    <tr>\n",
              "      <th>1</th>\n",
              "      <td>2</td>\n",
              "      <td>nbl</td>\n",
              "    </tr>\n",
              "    <tr>\n",
              "      <th>2</th>\n",
              "      <td>3</td>\n",
              "      <td>ven</td>\n",
              "    </tr>\n",
              "    <tr>\n",
              "      <th>3</th>\n",
              "      <td>4</td>\n",
              "      <td>ssw</td>\n",
              "    </tr>\n",
              "    <tr>\n",
              "      <th>4</th>\n",
              "      <td>5</td>\n",
              "      <td>afr</td>\n",
              "    </tr>\n",
              "  </tbody>\n",
              "</table>\n",
              "</div>"
            ],
            "text/plain": [
              "   index lang_id\n",
              "0      1     tsn\n",
              "1      2     nbl\n",
              "2      3     ven\n",
              "3      4     ssw\n",
              "4      5     afr"
            ]
          },
          "metadata": {
            "tags": []
          },
          "execution_count": 50
        }
      ]
    },
    {
      "cell_type": "code",
      "metadata": {
        "id": "X7FcfkgF4NnO"
      },
      "source": [
        "df.to_csv('base_submission5.csv', index=False)"
      ],
      "execution_count": null,
      "outputs": []
    },
    {
      "cell_type": "code",
      "metadata": {
        "id": "davJARU-4NnO"
      },
      "source": [
        "Re do"
      ],
      "execution_count": null,
      "outputs": []
    },
    {
      "cell_type": "code",
      "metadata": {
        "id": "zqyeTClo4NnO"
      },
      "source": [
        "train = pd.read_csv('train_set.csv')\n",
        "test = pd.read_csv('test_set.csv')"
      ],
      "execution_count": null,
      "outputs": []
    },
    {
      "cell_type": "code",
      "metadata": {
        "id": "fyusItUA4NnO"
      },
      "source": [
        "ftrain = train.copy()\n",
        "ftest = test.copy()"
      ],
      "execution_count": null,
      "outputs": []
    },
    {
      "cell_type": "code",
      "metadata": {
        "id": "n4dqPXqI4NnO"
      },
      "source": [
        "def clean(df,text_field):\n",
        "\n",
        "    \n",
        "    df[text_field] = df[text_field].str.replace(r'^.+@[^\\.].*\\.[a-z]{2,}$',\n",
        "                                     'emailaddress')\n",
        "\n",
        "    # Remove unicode strings\n",
        "    df[text_field] = df[text_field].str.replace(r'(\\\\u[0-9A-Fa-f]+)', '')\n",
        "    df[text_field] = df[text_field].str.replace(r'[^\\x00-\\x7f]', '')\n",
        "\n",
        "    # Convert any url to URL\n",
        "    df[text_field] = df[text_field].str.replace('((www\\.[^\\s]+)|(https?://[^\\s]+))',\n",
        "                                'website')\n",
        "\n",
        "    # Remove special characters, numbers, punctuation\n",
        "    df[text_field] = df[text_field].str.replace('[^a-zA-Z#@]+',' ')\n",
        "\n",
        "    # Remove additional white spaces\n",
        "    df[text_field] = df[text_field].str.replace(r'\\s+', ' ')\n",
        "    df[text_field] = df[text_field].str.replace(r'^\\s+|\\s+?$', '')\n",
        "\n",
        "    # Change words to lower case\n",
        "    df[text_field] = df[text_field].str.lower()\n",
        "\n",
        "    # Remove stop words from tweets\n",
        "    stop_words = set(stopwords.words('english'))\n",
        "\n",
        "    df[text_field] = df[text_field].apply(lambda x: ' '.join(\n",
        "        word for word in x.split() if word not in stop_words))\n",
        "\n",
        "    return df"
      ],
      "execution_count": null,
      "outputs": []
    },
    {
      "cell_type": "code",
      "metadata": {
        "id": "IiJHdMtQ4NnO",
        "outputId": "c5c8705a-23af-41b7-e836-115fe13a10ea"
      },
      "source": [
        "ftrain[clean] =  clean(ftrain,text)\n",
        "ftest[clean] =  clean(ftest,text)"
      ],
      "execution_count": null,
      "outputs": [
        {
          "output_type": "error",
          "ename": "NameError",
          "evalue": "name 'text' is not defined",
          "traceback": [
            "\u001b[1;31m---------------------------------------------------------------------------\u001b[0m",
            "\u001b[1;31mNameError\u001b[0m                                 Traceback (most recent call last)",
            "\u001b[1;32m<ipython-input-103-b6773e7bb956>\u001b[0m in \u001b[0;36m<module>\u001b[1;34m\u001b[0m\n\u001b[1;32m----> 1\u001b[1;33m \u001b[0mftrain\u001b[0m\u001b[1;33m[\u001b[0m\u001b[0mclean\u001b[0m\u001b[1;33m]\u001b[0m \u001b[1;33m=\u001b[0m  \u001b[0mclean\u001b[0m\u001b[1;33m(\u001b[0m\u001b[0mftrain\u001b[0m\u001b[1;33m,\u001b[0m\u001b[0mtext\u001b[0m\u001b[1;33m)\u001b[0m\u001b[1;33m\u001b[0m\u001b[1;33m\u001b[0m\u001b[0m\n\u001b[0m\u001b[0;32m      2\u001b[0m \u001b[0mftest\u001b[0m\u001b[1;33m[\u001b[0m\u001b[0mclean\u001b[0m\u001b[1;33m]\u001b[0m \u001b[1;33m=\u001b[0m  \u001b[0mclean\u001b[0m\u001b[1;33m(\u001b[0m\u001b[0mftest\u001b[0m\u001b[1;33m,\u001b[0m\u001b[0mtext\u001b[0m\u001b[1;33m)\u001b[0m\u001b[1;33m\u001b[0m\u001b[1;33m\u001b[0m\u001b[0m\n",
            "\u001b[1;31mNameError\u001b[0m: name 'text' is not defined"
          ]
        }
      ]
    },
    {
      "cell_type": "code",
      "metadata": {
        "id": "TflYz0S24NnP"
      },
      "source": [
        "vectorizer = CountVectorizer(analyzer = 'word', \n",
        "                             tokenizer = None, \n",
        "                             preprocessor = None, \n",
        "                             stop_words = None, \n",
        "                             max_features = 180000,\n",
        "                             min_df = 1,\n",
        "                             ngram_range = (1,2)\n",
        "                            )"
      ],
      "execution_count": null,
      "outputs": []
    },
    {
      "cell_type": "code",
      "metadata": {
        "id": "NYs6bcLG4NnP"
      },
      "source": [
        "# Import library for Feature Extraction\n",
        "from sklearn.pipeline import Pipeline\n",
        "from sklearn.feature_extraction.text import CountVectorizer\n",
        "\n",
        "# Import library for train test split\n",
        "from sklearn.model_selection import train_test_split\n",
        "\n",
        "# Import Machine Learning algorithms\n",
        "from sklearn.svm import SVC\n",
        "from sklearn import metrics\n",
        "from sklearn.svm import LinearSVC\n",
        "from sklearn.tree import DecisionTreeClassifier\n",
        "from sklearn.model_selection import GridSearchCV\n",
        "from sklearn.neighbors import KNeighborsClassifier\n",
        "from sklearn.model_selection import StratifiedKFold\n",
        "from sklearn.linear_model import LogisticRegression\n",
        "from sklearn.linear_model import LogisticRegression\n",
        "from sklearn.ensemble import RandomForestClassifier, AdaBoostClassifier"
      ],
      "execution_count": null,
      "outputs": []
    },
    {
      "cell_type": "code",
      "metadata": {
        "id": "VMO4xnJY4NnP"
      },
      "source": [
        "# Building a Pipeline for word vectorization\n",
        "pipe = Pipeline( [('vect', vectorizer)] )\n"
      ],
      "execution_count": null,
      "outputs": []
    },
    {
      "cell_type": "code",
      "metadata": {
        "id": "UxqG2xw44NnP"
      },
      "source": [
        "X = train_clean['text']\n",
        "y = train_clean['lang_num']"
      ],
      "execution_count": null,
      "outputs": []
    },
    {
      "cell_type": "code",
      "metadata": {
        "id": "e4j6b9-V4NnP"
      },
      "source": [
        "# Fitting & transforming the data\n",
        "train_vect = pipe.fit_transform(X)\n",
        "test_vect = pipe.transform(test_clean['text'])"
      ],
      "execution_count": null,
      "outputs": []
    },
    {
      "cell_type": "code",
      "metadata": {
        "id": "fWF90hyb4NnP"
      },
      "source": [
        "# Splitting the data into train & test sets\n",
        "X_train, X_test, y_train, y_test = train_test_split(train_vect, y,\n",
        "                                                    test_size = 0.2, random_state=42)"
      ],
      "execution_count": null,
      "outputs": []
    },
    {
      "cell_type": "code",
      "metadata": {
        "id": "NBG--nrc4NnP"
      },
      "source": [
        "# These are the different Classification models we will train our data on\n",
        "# Creating a list of names so we can print metrics for the entire list at once\n",
        "names = ['Logistic Regression'\n",
        "         ,'Nearest Neighbors'\n",
        "         ,'Linear SVC'\n",
        "         , 'RBF SVC'\n",
        "         , 'Linear SVM'\n",
        "         , 'Decision Tree'\n",
        "         , 'Random Forest'\n",
        "         ,  'AdaBoost'\n",
        "]"
      ],
      "execution_count": null,
      "outputs": []
    },
    {
      "cell_type": "code",
      "metadata": {
        "id": "GJJXaEoM4NnP"
      },
      "source": [
        "# These are the different Classification models we will train our data on\n",
        "# Creating a list of names so we can print metrics for the entire list at once\n",
        "classifiers = [\n",
        "    LogisticRegression()\n",
        "    , KNeighborsClassifier(3)\n",
        "    , SVC(kernel=\"linear\", C=0.025)\n",
        "    , SVC(gamma=2, C=1)\n",
        "    , LinearSVC()\n",
        "    , DecisionTreeClassifier(max_depth=5)\n",
        "    , RandomForestClassifier(max_depth=5, n_estimators=10, max_features=1)\n",
        "    , AdaBoostClassifier()\n",
        "]"
      ],
      "execution_count": null,
      "outputs": []
    },
    {
      "cell_type": "code",
      "metadata": {
        "id": "pNlc9W8S4NnP"
      },
      "source": [
        "# Setting the number of folds\n",
        "\n",
        "kfold = StratifiedKFold( n_splits = 150)"
      ],
      "execution_count": null,
      "outputs": []
    },
    {
      "cell_type": "code",
      "metadata": {
        "id": "-SfeZAQ84NnP",
        "outputId": "5be21d25-6da9-411c-d845-f610f5349d28"
      },
      "source": [
        "# Linear SVC model\n",
        "#Set the parameters according to the first run output (C = 0.09)\n",
        "param_grid2 = {'C': [0.09]}\n",
        "\n",
        "# Grid Search on the Linear SVC model\n",
        "gs_sv = GridSearchCV(LinearSVC(), param_grid=[param_grid2], \n",
        "                     verbose=1, cv=kfold, n_jobs=-1)\n",
        "\n",
        "# Fitting the model to our data\n",
        "gs_sv.fit(X_train,y_train)\n",
        "\n",
        "# Find the best estimator\n",
        "gs_sv_best = gs_sv.best_estimator_\n",
        "\n",
        "# Print the best parameters\n",
        "print(gs_sv.best_params_)\n",
        "\n",
        "# Print the best score\n",
        "print(gs_sv.best_score_)"
      ],
      "execution_count": null,
      "outputs": [
        {
          "output_type": "stream",
          "text": [
            "Fitting 150 folds for each of 1 candidates, totalling 150 fits\n"
          ],
          "name": "stdout"
        },
        {
          "output_type": "stream",
          "text": [
            "[Parallel(n_jobs=-1)]: Using backend LokyBackend with 2 concurrent workers.\n",
            "[Parallel(n_jobs=-1)]: Done  46 tasks      | elapsed:  5.1min\n",
            "[Parallel(n_jobs=-1)]: Done 150 out of 150 | elapsed: 13.1min finished\n"
          ],
          "name": "stderr"
        },
        {
          "output_type": "stream",
          "text": [
            "{'C': 0.09}\n",
            "0.996628787878788\n"
          ],
          "name": "stdout"
        }
      ]
    },
    {
      "cell_type": "code",
      "metadata": {
        "id": "Iy0BW98-4NnP"
      },
      "source": [
        ""
      ],
      "execution_count": null,
      "outputs": []
    }
  ]
}